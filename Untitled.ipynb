{
 "cells": [
  {
   "cell_type": "code",
   "execution_count": null,
   "metadata": {},
   "outputs": [],
   "source": [
    "#import Dependencies\n",
    "\n",
    "# Make a reference to the books.csv file path\n",
    "\n",
    "# Import the books.csv file as a DataFrame\n",
    " \n",
    "# Remove unecessary columns from the DataFrame and save the new DataFrame\n",
    "# Only keep: \"isbn\", \"original_publication_year\", \"original_title\", \"authors\",\n",
    "# \"ratings_1\", \"ratings_2\", \"ratings_3\", \"ratings_4\", \"ratings_5\" \n",
    "\n",
    "# Rename the headers to be more explanatory \n",
    "  \n",
    "# Push the remade DataFrame to a new CSV file"
   ]
  },
  {
   "cell_type": "code",
   "execution_count": null,
   "metadata": {},
   "outputs": [],
   "source": [
    "import pandas as pd"
   ]
  },
  {
   "cell_type": "code",
   "execution_count": null,
   "metadata": {},
   "outputs": [],
   "source": [
    "#Store filepath as a variable\n"
   ]
  }
 ],
 "metadata": {
  "kernelspec": {
   "display_name": "Python 3",
   "language": "python",
   "name": "python3"
  },
  "language_info": {
   "codemirror_mode": {
    "name": "ipython",
    "version": 3
   },
   "file_extension": ".py",
   "mimetype": "text/x-python",
   "name": "python",
   "nbconvert_exporter": "python",
   "pygments_lexer": "ipython3",
   "version": "3.6.8"
  }
 },
 "nbformat": 4,
 "nbformat_minor": 2
}
