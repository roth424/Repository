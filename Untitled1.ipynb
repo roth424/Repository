{
 "cells": [
  {
   "cell_type": "code",
   "execution_count": null,
   "metadata": {},
   "outputs": [],
   "source": [
    "#Bank Python Code\n",
    "#import os and CSV\n",
    "import os, os.path\n",
    "import csv\n",
    "\n",
    "budget=os.path.join(\"..\",\"PyBank\", \"budget_data.csv\")\n",
    "#budget=os.join(cwd, \"budget_data.csv\")\n",
    "#budget_length=len(budget)\n",
    "\n",
    "\n",
    "\n",
    "\n",
    "#for numbers "
   ]
  },
  {
   "cell_type": "code",
   "execution_count": null,
   "metadata": {},
   "outputs": [],
   "source": [
    " #Set empty list variables\n",
    "date = []\n",
    "revenue =[]\n",
    "month = []\n",
    "year =[]\n",
    "revenueChange =[]\n",
    "TotalRev =0\n",
    "TotalRevChange = 0\n",
    "RevBeg=0\n",
    "itemCount = 0venue =[]\n",
    "month = []\n",
    "year =[]\n",
    "revenueChange =[]\n",
    "TotalRev =0\n",
    "TotalRevChange = 0\n",
    "RevBeg=0\n",
    "itemCount = 0"
   ]
  },
  {
   "cell_type": "code",
   "execution_count": null,
   "metadata": {},
   "outputs": [],
   "source": [
    "with open(budget,'r') as csvFile:\n",
    "    csvReader=csv.reader(csvFile, delimiter=',')\n"
   ]
  }
 ],
 "metadata": {
  "kernelspec": {
   "display_name": "Python 3",
   "language": "python",
   "name": "python3"
  },
  "language_info": {
   "codemirror_mode": {
    "name": "ipython",
    "version": 3
   },
   "file_extension": ".py",
   "mimetype": "text/x-python",
   "name": "python",
   "nbconvert_exporter": "python",
   "pygments_lexer": "ipython3",
   "version": "3.6.8"
  }
 },
 "nbformat": 4,
 "nbformat_minor": 2
}
