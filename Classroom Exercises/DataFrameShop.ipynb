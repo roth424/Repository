{
 "cells": [
  {
   "cell_type": "code",
   "execution_count": 2,
   "metadata": {},
   "outputs": [],
   "source": [
    "# Import Dependencies\n",
    "import pandas as pd\n",
    "%config IPCompleter.greedy=True"
   ]
  },
  {
   "cell_type": "code",
   "execution_count": 3,
   "metadata": {},
   "outputs": [
    {
     "name": "stdout",
     "output_type": "stream",
     "text": [
      "       Frame  Price Sales\n",
      "0     Ornate   15.0   100\n",
      "1  Classical   12.5   200\n",
      "2     Modern   10.0   150\n",
      "3       Wood    5.0   300\n",
      "4  Cardboard    1.0   N/A\n"
     ]
    }
   ],
   "source": [
    "#More Preferred!!!\n",
    "# DataFrame should have 3 columns: Frame, Price, and Sales AND 5 rows of data\n",
    "df = pd.DataFrame(\n",
    "{\"Frame\": [\"Ornate\", \"Classical\", \"Modern\", \"Wood\", \"Cardboard\"],\n",
    " \"Price\": [15.0, 12.5, 10.0, 5.0, 1.0],\n",
    " \"Sales\": [100, 200, 150, 300, \"N/A\"]\n",
    "}\n",
    ")\n",
    "print(df)"
   ]
  },
  {
   "cell_type": "code",
   "execution_count": 4,
   "metadata": {},
   "outputs": [
    {
     "name": "stdout",
     "output_type": "stream",
     "text": [
      "               Painting    Popularity  Price\n",
      "0  Mona Lisa (Knockoff)  Very Popular     25\n",
      "1   Van Gogh (Knockoff)       Popular     20\n"
     ]
    }
   ],
   "source": [
    "# Use a different method of creating DataFrames to\n",
    "# Create a DataFrame for an art gallery that contains three columns - \"Painting\", \"Price\", and \"Popularity\"\n",
    "# and has 4 rows of data\n",
    "df = pd.DataFrame([\n",
    "    {\"Painting\": \"Mona Lisa (Knockoff)\", \"Price\": 25, \"Popularity\": \"Very Popular\"},\n",
    "    {\"Painting\": \"Van Gogh (Knockoff)\", \"Price\": 20, \"Popularity\": \"Popular\"}\n",
    "])\n",
    "print(df)"
   ]
  },
  {
   "cell_type": "code",
   "execution_count": null,
   "metadata": {},
   "outputs": [],
   "source": [
    "pd.c"
   ]
  },
  {
   "cell_type": "code",
   "execution_count": null,
   "metadata": {},
   "outputs": [],
   "source": [
    "#Create a DataFrame for a frame shop that contains three columns - \"Frame\", \"Price\", and \"Sales\" - and has five rows of data stored within it.\n",
    "#Using an alternate method from that used before, create a DataFrame for an art gallery that contains three columns - \"Painting\", \"Price\", and \"Popularity\" - and has four rows of data stored within it."
   ]
  }
 ],
 "metadata": {
  "kernelspec": {
   "display_name": "Python 3",
   "language": "python",
   "name": "python3"
  },
  "language_info": {
   "codemirror_mode": {
    "name": "ipython",
    "version": 3
   },
   "file_extension": ".py",
   "mimetype": "text/x-python",
   "name": "python",
   "nbconvert_exporter": "python",
   "pygments_lexer": "ipython3",
   "version": "3.6.8"
  }
 },
 "nbformat": 4,
 "nbformat_minor": 2
}
