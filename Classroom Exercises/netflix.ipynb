{
 "cells": [
  {
   "cell_type": "code",
   "execution_count": null,
   "metadata": {},
   "outputs": [],
   "source": [
    "import csv\n",
    "csvpath='.../Resources/netflix_ratings.csv'\n",
    "with open (csvpath, newline='') as csvfile\n",
    "    csvreader=csv.reader(csvfile,,delimter=',')\n",
    "    found=False\n",
    "    \n",
    "    for row in csvreader:\n",
    "            if(row[0]==title):\n",
    "                print(row[0] + \"is rated\" + row[1] + \"with a rating of \" + row[5])\n",
    "                found=True\n",
    "                break"
   ]
  },
  {
   "cell_type": "code",
   "execution_count": null,
   "metadata": {},
   "outputs": [],
   "source": [
    "title=input"
   ]
  }
 ],
 "metadata": {
  "kernelspec": {
   "display_name": "Python 3",
   "language": "python",
   "name": "python3"
  },
  "language_info": {
   "codemirror_mode": {
    "name": "ipython",
    "version": 3
   },
   "file_extension": ".py",
   "mimetype": "text/x-python",
   "name": "python",
   "nbconvert_exporter": "python",
   "pygments_lexer": "ipython3",
   "version": "3.6.8"
  }
 },
 "nbformat": 4,
 "nbformat_minor": 2
}
