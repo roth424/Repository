{
 "cells": [
  {
   "cell_type": "code",
   "execution_count": null,
   "metadata": {},
   "outputs": [],
   "source": [
    "In [ ]:\n",
    "# Import the Pandas library\n",
    "import pandas as pd\n",
    "In [ ]:\n",
    "# Create a reference the CSV file desired\n",
    "\n",
    "# Read the CSV into a Pandas DataFrame\n",
    "\n"
   ]
  },
  {
   "cell_type": "code",
   "execution_count": null,
   "metadata": {},
   "outputs": [],
   "source": [
    "# Print the first five rows of data to the screen\n",
    "In [ ]:\n",
    "# Check to see if there are any rows with missing data\n",
    "In [ ]:\n",
    "# Remove the rows with missing data\n",
    "In [ ]:\n"
   ]
  },
  {
   "cell_type": "code",
   "execution_count": null,
   "metadata": {},
   "outputs": [],
   "source": [
    "# Filter the data so that only those sightings in the US are in a DataFrame\n",
    "series\n"
   ]
  },
  {
   "cell_type": "code",
   "execution_count": null,
   "metadata": {},
   "outputs": [],
   "source": [
    "# Count how many sightings have occured within each state\n",
    "df2=pd.DataFrame(series)\n"
   ]
  },
  {
   "cell_type": "code",
   "execution_count": null,
   "metadata": {},
   "outputs": [],
   "source": [
    "# Convert the state_counts Series into a DataFrame\n",
    "In [ ]:\n"
   ]
  },
  {
   "cell_type": "code",
   "execution_count": null,
   "metadata": {},
   "outputs": [],
   "source": [
    "# Convert the column name into \"Sum of Sightings\"\n",
    "df3.df2.rename[columns={'state':'Sum of Sightings'}]\n",
    "d3.head()"
   ]
  },
  {
   "cell_type": "code",
   "execution_count": null,
   "metadata": {},
   "outputs": [],
   "source": [
    "# Want to add up the seconds UFOs are seen? There is a problem\n",
    "# Problem can be seen by examining datatypes within the DataFrame\n",
    "df.dtypes"
   ]
  },
  {
   "cell_type": "code",
   "execution_count": null,
   "metadata": {},
   "outputs": [],
   "source": [
    "df['duration (seconds)'=pd.to_numeric(['duration (seconds)'])]"
   ]
  },
  {
   "cell_type": "code",
   "execution_count": null,
   "metadata": {},
   "outputs": [],
   "source": []
  }
 ],
 "metadata": {
  "kernelspec": {
   "display_name": "Python 3",
   "language": "python",
   "name": "python3"
  },
  "language_info": {
   "codemirror_mode": {
    "name": "ipython",
    "version": 3
   },
   "file_extension": ".py",
   "mimetype": "text/x-python",
   "name": "python",
   "nbconvert_exporter": "python",
   "pygments_lexer": "ipython3",
   "version": "3.7.1"
  }
 },
 "nbformat": 4,
 "nbformat_minor": 2
}
